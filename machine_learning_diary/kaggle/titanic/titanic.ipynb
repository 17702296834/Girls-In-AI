{
 "cells": [
  {
   "cell_type": "markdown",
   "metadata": {},
   "source": [
    "# Titanic\n",
    "\n",
    "欢迎大家来到 Machine Learning Diary 的第二趴 Kaggle Diary~👏\n"
   ]
  },
  {
   "cell_type": "markdown",
   "metadata": {},
   "source": [
    "## 初识 Kaggle\n",
    "\n",
    "很多人可能是第一次接触Kaggle，首先去注册一个账号，目测需要梯子，官网网址：[Kaggle: Your Home for Data Science](https://www.kaggle.com/) \n",
    "\n",
    "Kaggle发展到现在其实很完善也很\n",
    "\n",
    "我就以一位刚入门的初学者的角度来介绍"
   ]
  },
  {
   "cell_type": "code",
   "execution_count": null,
   "metadata": {},
   "outputs": [],
   "source": []
  }
 ],
 "metadata": {
  "kernelspec": {
   "display_name": "Python 3",
   "language": "python",
   "name": "python3"
  },
  "language_info": {
   "codemirror_mode": {
    "name": "ipython",
    "version": 3
   },
   "file_extension": ".py",
   "mimetype": "text/x-python",
   "name": "python",
   "nbconvert_exporter": "python",
   "pygments_lexer": "ipython3",
   "version": "3.5.6"
  }
 },
 "nbformat": 4,
 "nbformat_minor": 2
}
