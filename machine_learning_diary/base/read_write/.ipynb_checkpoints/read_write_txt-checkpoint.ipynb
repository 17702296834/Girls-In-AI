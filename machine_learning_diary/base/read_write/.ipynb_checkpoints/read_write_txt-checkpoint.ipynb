{
 "cells": [
  {
   "cell_type": "markdown",
   "metadata": {},
   "source": [
    "# 读 / 写 txt"
   ]
  },
  {
   "cell_type": "markdown",
   "metadata": {},
   "source": [
    "欢迎大家回到 Machine Learning Diary~👏\n",
    "今天这节课主要带大家熟悉一下 读read 和 写write text文件。\n"
   ]
  },
  {
   "cell_type": "markdown",
   "metadata": {},
   "source": [
    "在熟悉txt之前，我先来介绍下 \"路径 path\" 这个概念。\n",
    "\n",
    "很简单，每个文件都有它归属的路径。比如我在桌面新建个python文件夹，那么它对应的路径是\"C:\\Users\\ZhangYi\\Desktop\\python\"，这个叫\"绝对路径\"，还有个\"相对路径\"，稍后讲。我继续在python文件夹里新建一个 python.txt 文本文件，那么它对应的绝对路径是\"C:\\Users\\ZhangYi\\Desktop\\python\\python.txt\"。\n",
    "\n",
    "如果要把这个路径写进python代码里，为了能使程序识别出来，在windows下的路径的斜杠是'/',linux下的路径斜杠是\"\\\\\\\\\"。\n",
    "\n",
    "好了，现在打开刚刚新建的python.txt，顶格在第一行写上\"皮一下很开心！\"，然后关掉。（不用写引号\"\"）\n",
    "\n",
    "打开jupyter notebook"
   ]
  },
  {
   "cell_type": "code",
   "execution_count": 11,
   "metadata": {},
   "outputs": [],
   "source": [
    "import os\n",
    "os.chdir(\"C:/Users/ZhangYi/Desktop/python\") # 这里更换成你的python文件夹路径，记得更正斜杠'/'"
   ]
  },
  {
   "cell_type": "markdown",
   "metadata": {},
   "source": [
    "现在"
   ]
  },
  {
   "cell_type": "code",
   "execution_count": 7,
   "metadata": {},
   "outputs": [],
   "source": [
    "f = open('python.txt')"
   ]
  },
  {
   "cell_type": "code",
   "execution_count": 8,
   "metadata": {},
   "outputs": [],
   "source": [
    "a = f.read()"
   ]
  },
  {
   "cell_type": "code",
   "execution_count": 9,
   "metadata": {},
   "outputs": [
    {
     "data": {
      "text/plain": [
       "'我就是皮一下！'"
      ]
     },
     "execution_count": 9,
     "metadata": {},
     "output_type": "execute_result"
    }
   ],
   "source": [
    "a"
   ]
  },
  {
   "cell_type": "code",
   "execution_count": null,
   "metadata": {},
   "outputs": [],
   "source": []
  }
 ],
 "metadata": {
  "kernelspec": {
   "display_name": "Python 3",
   "language": "python",
   "name": "python3"
  },
  "language_info": {
   "codemirror_mode": {
    "name": "ipython",
    "version": 3
   },
   "file_extension": ".py",
   "mimetype": "text/x-python",
   "name": "python",
   "nbconvert_exporter": "python",
   "pygments_lexer": "ipython3",
   "version": "3.5.6"
  }
 },
 "nbformat": 4,
 "nbformat_minor": 2
}
