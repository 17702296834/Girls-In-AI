{
 "cells": [
  {
   "cell_type": "markdown",
   "metadata": {},
   "source": [
    "# 数据类型 - DataFrame\n",
    "\n",
    "\n",
    "欢迎大家回到 **Machine Learning Diary**~ 👏\n",
    "\n",
    "今天这节课主要介绍一种非常有用的数据类型，叫做\"DataFrame\"，经常缩写为\"df\"。本质上是一个表格型的数据结构，类似excel的sheet。\n",
    "\n",
    "说到DataFrame，就不得不提一个非常强大的包 - **pandas**。因此这节课都会用到这个包，顺便感受下如何使用包。\n",
    "\n",
    "打开Jupyter，尝试来生成一个dataframe："
   ]
  },
  {
   "cell_type": "code",
   "execution_count": 6,
   "metadata": {},
   "outputs": [
    {
     "name": "stdout",
     "output_type": "stream",
     "text": [
      "   aaa  bbb  ccc\n",
      "0    1    4    7\n",
      "1    2    5    8\n",
      "2    3    6    9\n"
     ]
    }
   ],
   "source": [
    "import pandas as pd\n",
    "\n",
    "\n",
    "## 创建DataFrame ##\n",
    "df = pd.DataFrame({'aaa':[1,2,3], 'bbb':[4,5,6], 'ccc':[7,8,9]})\n",
    "print(df)"
   ]
  },
  {
   "cell_type": "markdown",
   "metadata": {},
   "source": [
    "根据上面的结果，我们可以看出刚刚创建的 df表格 一共有3行3列。\"aaa/bbb/ccc\"是列名。最左边一列是index索引，表示顺序，从零开始计算。0表示第一行，2就表示第三行。\n",
    "\n",
    "### 取列\n",
    "下面尝试抽取表格里的列（column），经常缩写为 col 。"
   ]
  },
  {
   "cell_type": "code",
   "execution_count": 7,
   "metadata": {},
   "outputs": [
    {
     "name": "stdout",
     "output_type": "stream",
     "text": [
      "0    1\n",
      "1    2\n",
      "2    3\n",
      "Name: aaa, dtype: int64\n"
     ]
    }
   ],
   "source": [
    "col_1 = df['aaa']  # 注意在列名上加引号\n",
    "print(col_1)"
   ]
  },
  {
   "cell_type": "markdown",
   "metadata": {},
   "source": [
    "col_1就是first这一列的值。上面有两列，左边的一列仍旧是index索引。下面出现 dtype: int64，表示这列的数据格式都是int整数。\n",
    "\n",
    "还有一种取列的方式如下："
   ]
  },
  {
   "cell_type": "code",
   "execution_count": 8,
   "metadata": {},
   "outputs": [
    {
     "name": "stdout",
     "output_type": "stream",
     "text": [
      "0    1\n",
      "1    2\n",
      "2    3\n",
      "Name: aaa, dtype: int64\n"
     ]
    }
   ],
   "source": [
    "print(df.aaa)"
   ]
  },
  {
   "cell_type": "code",
   "execution_count": null,
   "metadata": {},
   "outputs": [],
   "source": []
  },
  {
   "cell_type": "markdown",
   "metadata": {},
   "source": [
    "我个人还是比较喜欢第一种取列的方式。\n",
    "\n",
    "### 取行\n",
    "\n",
    "取列的时候因为有列名，但是每行不能都拥有一个名字"
   ]
  },
  {
   "cell_type": "code",
   "execution_count": null,
   "metadata": {},
   "outputs": [],
   "source": [
    "\"还没写完。。。别看\""
   ]
  }
 ],
 "metadata": {
  "kernelspec": {
   "display_name": "Python 3",
   "language": "python",
   "name": "python3"
  },
  "language_info": {
   "codemirror_mode": {
    "name": "ipython",
    "version": 3
   },
   "file_extension": ".py",
   "mimetype": "text/x-python",
   "name": "python",
   "nbconvert_exporter": "python",
   "pygments_lexer": "ipython3",
   "version": "3.5.6"
  }
 },
 "nbformat": 4,
 "nbformat_minor": 2
}
